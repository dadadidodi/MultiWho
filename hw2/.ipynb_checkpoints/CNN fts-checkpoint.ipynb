{
 "metadata": {
  "name": "",
  "signature": "sha256:e6b6e09bad7a154fa40901549cf19e30ba54c2d640a53ec275b96ddc5e1e9451"
 },
 "nbformat": 3,
 "nbformat_minor": 0,
 "worksheets": []
}